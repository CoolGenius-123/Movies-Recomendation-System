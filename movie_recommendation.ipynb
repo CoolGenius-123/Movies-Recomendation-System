{
 "cells": [
  {
   "cell_type": "markdown",
   "metadata": {},
   "source": [
    "### DATA CLEANING AND PREPROCESSING"
   ]
  },
  {
   "cell_type": "code",
   "execution_count": 1,
   "metadata": {},
   "outputs": [
    {
     "name": "stdout",
     "output_type": "stream",
     "text": [
      "(4803, 20)\n",
      "(4803, 4)\n"
     ]
    }
   ],
   "source": [
    "# importing tmdb movies dataset both credits and movies\n",
    "\n",
    "import pandas as pd\n",
    "\n",
    "movies = pd.read_csv('tmdb_5000_movies.csv')\n",
    "credits = pd.read_csv('tmdb_5000_credits.csv')\n",
    "\n",
    "print(movies.shape)\n",
    "print(credits.shape)"
   ]
  },
  {
   "cell_type": "code",
   "execution_count": 2,
   "metadata": {},
   "outputs": [
    {
     "name": "stdout",
     "output_type": "stream",
     "text": [
      "(4809, 23)\n"
     ]
    }
   ],
   "source": [
    "# merging both the dataframes\n",
    "\n",
    "movies = movies.merge(credits, on='title')\n",
    "\n",
    "print(movies.shape) # run only one time because it will change the shape of the dataframe"
   ]
  },
  {
   "cell_type": "code",
   "execution_count": 3,
   "metadata": {},
   "outputs": [],
   "source": [
    "# columns which does not need to dropped\n",
    "# movie_id, title, overview, genres, keywords, cast, crew\n",
    "\n",
    "needed = ['movie_id', 'title', 'overview', 'genres', 'keywords', 'cast', 'crew']\n",
    "\n",
    "not_needed = [col for col in movies.columns if col not in needed]\n",
    "\n",
    "movies.drop(columns=not_needed, inplace=True)\n"
   ]
  },
  {
   "cell_type": "code",
   "execution_count": 4,
   "metadata": {},
   "outputs": [
    {
     "name": "stdout",
     "output_type": "stream",
     "text": [
      "Number of null values in each column:\n",
      " genres      0\n",
      "keywords    0\n",
      "overview    3\n",
      "title       0\n",
      "movie_id    0\n",
      "cast        0\n",
      "crew        0\n",
      "dtype: int64\n"
     ]
    }
   ],
   "source": [
    "# checking null values\n",
    "\n",
    "print(\"Number of null values in each column:\\n\", movies.isnull().sum())"
   ]
  },
  {
   "cell_type": "code",
   "execution_count": 5,
   "metadata": {},
   "outputs": [
    {
     "name": "stdout",
     "output_type": "stream",
     "text": [
      "(4806, 7)\n"
     ]
    },
    {
     "data": {
      "text/plain": [
       "0"
      ]
     },
     "execution_count": 5,
     "metadata": {},
     "output_type": "execute_result"
    }
   ],
   "source": [
    "# removing the null value\n",
    "\n",
    "movies = movies.dropna()\n",
    "\n",
    "print(movies.shape)\n",
    "\n",
    "# checking duplicated values\n",
    "\n",
    "movies.duplicated().sum()"
   ]
  },
  {
   "cell_type": "code",
   "execution_count": 6,
   "metadata": {},
   "outputs": [],
   "source": [
    "# creating convert function for genre column\n",
    "import ast\n",
    "\n",
    "def convert(genres):\n",
    "    genre = []\n",
    "    for i in ast.literal_eval(genres): # ast.literal_eval() will convert string list to list\n",
    "        genre.append(i['name'])\n",
    "    return genre\n",
    "\n",
    "# creating convert_cast function for cast column\n",
    "\n",
    "def convert_cast(casts):\n",
    "    cast = []\n",
    "    counter = 0 # we only need first 3 cast, don't need all\n",
    "    for i in ast.literal_eval(casts):\n",
    "        if counter < 3:\n",
    "            cast.append(i['name'])\n",
    "            counter += 1\n",
    "        else:\n",
    "            break\n",
    "    return cast\n",
    "\n",
    "# creating convert_crew function for crew column\n",
    "\n",
    "def convert_crew(crews):\n",
    "    crew = []\n",
    "    for i in ast.literal_eval(crews):\n",
    "        if i['job'] == 'Director': # we only need director name\n",
    "            crew.append(i['name'])\n",
    "    return crew\n",
    "\n",
    "# creating convert_keywords function for keywords column\n",
    "\n",
    "def convert_keywords(keywords):\n",
    "    keyword = []\n",
    "    for i in ast.literal_eval(keywords):\n",
    "        keyword.append(i['name'])\n",
    "    return keyword\n"
   ]
  },
  {
   "cell_type": "code",
   "execution_count": 7,
   "metadata": {},
   "outputs": [],
   "source": [
    "# changin genres column of dataframe to list of genres\n",
    "\n",
    "movies['genres'] = movies['genres'].apply(convert)\n",
    "\n",
    "# changing the cast column of dataframe to list of cast\n",
    "\n",
    "movies['cast'] = movies['cast'].apply(convert_cast)\n",
    "\n",
    "# changin the crew column of dataframe to list of crew\n",
    "\n",
    "movies['crew'] = movies['crew'].apply(convert_crew)\n",
    "\n",
    "# changing the keywords column of dataframe to list of keywords\n",
    "\n",
    "movies['keywords'] = movies['keywords'].apply(convert_keywords)\n",
    "\n",
    "# converting the overview column of dataframe to list of overview\n",
    "\n",
    "movies['overview'] = movies['overview'].apply(lambda x: x.split())"
   ]
  },
  {
   "cell_type": "code",
   "execution_count": 8,
   "metadata": {},
   "outputs": [],
   "source": [
    "# removing in between spaces from each values in columns\n",
    "\n",
    "movies['genres'] = movies['genres'].apply(lambda x: [i.replace(\" \", \"\") for i in x])\n",
    "\n",
    "movies['keywords'] = movies['keywords'].apply(lambda x: [i.replace(\" \", \"\") for i in x])\n",
    "\n",
    "movies['cast'] = movies['cast'].apply(lambda x: [i.replace(\" \", \"\") for i in x])\n",
    "\n",
    "movies['crew'] = movies['crew'].apply(lambda x: [i.replace(\" \", \"\") for i in x])\n"
   ]
  },
  {
   "cell_type": "code",
   "execution_count": 9,
   "metadata": {},
   "outputs": [],
   "source": [
    "# creating new column tags in addition of all crew , cast, overview, genres, keywords\n",
    "\n",
    "movies['tags'] = movies['cast'] + movies['crew'] + movies['genres'] + movies['keywords'] + movies['overview']"
   ]
  },
  {
   "cell_type": "code",
   "execution_count": 10,
   "metadata": {},
   "outputs": [
    {
     "name": "stderr",
     "output_type": "stream",
     "text": [
      "C:\\Users\\kashi\\AppData\\Local\\Temp\\ipykernel_10000\\1660546617.py:7: SettingWithCopyWarning: \n",
      "A value is trying to be set on a copy of a slice from a DataFrame.\n",
      "Try using .loc[row_indexer,col_indexer] = value instead\n",
      "\n",
      "See the caveats in the documentation: https://pandas.pydata.org/pandas-docs/stable/user_guide/indexing.html#returning-a-view-versus-a-copy\n",
      "  newframe['tags'] = newframe['tags'].apply(lambda x: (\" \".join(x)).lower())\n"
     ]
    },
    {
     "data": {
      "text/html": [
       "<div>\n",
       "<style scoped>\n",
       "    .dataframe tbody tr th:only-of-type {\n",
       "        vertical-align: middle;\n",
       "    }\n",
       "\n",
       "    .dataframe tbody tr th {\n",
       "        vertical-align: top;\n",
       "    }\n",
       "\n",
       "    .dataframe thead th {\n",
       "        text-align: right;\n",
       "    }\n",
       "</style>\n",
       "<table border=\"1\" class=\"dataframe\">\n",
       "  <thead>\n",
       "    <tr style=\"text-align: right;\">\n",
       "      <th></th>\n",
       "      <th>movie_id</th>\n",
       "      <th>title</th>\n",
       "      <th>tags</th>\n",
       "    </tr>\n",
       "  </thead>\n",
       "  <tbody>\n",
       "    <tr>\n",
       "      <th>0</th>\n",
       "      <td>19995</td>\n",
       "      <td>Avatar</td>\n",
       "      <td>samworthington zoesaldana sigourneyweaver jame...</td>\n",
       "    </tr>\n",
       "    <tr>\n",
       "      <th>1</th>\n",
       "      <td>285</td>\n",
       "      <td>Pirates of the Caribbean: At World's End</td>\n",
       "      <td>johnnydepp orlandobloom keiraknightley gorever...</td>\n",
       "    </tr>\n",
       "    <tr>\n",
       "      <th>2</th>\n",
       "      <td>206647</td>\n",
       "      <td>Spectre</td>\n",
       "      <td>danielcraig christophwaltz léaseydoux sammende...</td>\n",
       "    </tr>\n",
       "    <tr>\n",
       "      <th>3</th>\n",
       "      <td>49026</td>\n",
       "      <td>The Dark Knight Rises</td>\n",
       "      <td>christianbale michaelcaine garyoldman christop...</td>\n",
       "    </tr>\n",
       "    <tr>\n",
       "      <th>4</th>\n",
       "      <td>49529</td>\n",
       "      <td>John Carter</td>\n",
       "      <td>taylorkitsch lynncollins samanthamorton andrew...</td>\n",
       "    </tr>\n",
       "    <tr>\n",
       "      <th>5</th>\n",
       "      <td>559</td>\n",
       "      <td>Spider-Man 3</td>\n",
       "      <td>tobeymaguire kirstendunst jamesfranco samraimi...</td>\n",
       "    </tr>\n",
       "    <tr>\n",
       "      <th>6</th>\n",
       "      <td>38757</td>\n",
       "      <td>Tangled</td>\n",
       "      <td>zacharylevi mandymoore donnamurphy byronhoward...</td>\n",
       "    </tr>\n",
       "    <tr>\n",
       "      <th>7</th>\n",
       "      <td>99861</td>\n",
       "      <td>Avengers: Age of Ultron</td>\n",
       "      <td>robertdowneyjr. chrishemsworth markruffalo jos...</td>\n",
       "    </tr>\n",
       "    <tr>\n",
       "      <th>8</th>\n",
       "      <td>767</td>\n",
       "      <td>Harry Potter and the Half-Blood Prince</td>\n",
       "      <td>danielradcliffe rupertgrint emmawatson davidya...</td>\n",
       "    </tr>\n",
       "    <tr>\n",
       "      <th>9</th>\n",
       "      <td>209112</td>\n",
       "      <td>Batman v Superman: Dawn of Justice</td>\n",
       "      <td>benaffleck henrycavill galgadot zacksnyder act...</td>\n",
       "    </tr>\n",
       "  </tbody>\n",
       "</table>\n",
       "</div>"
      ],
      "text/plain": [
       "   movie_id                                     title  \\\n",
       "0     19995                                    Avatar   \n",
       "1       285  Pirates of the Caribbean: At World's End   \n",
       "2    206647                                   Spectre   \n",
       "3     49026                     The Dark Knight Rises   \n",
       "4     49529                               John Carter   \n",
       "5       559                              Spider-Man 3   \n",
       "6     38757                                   Tangled   \n",
       "7     99861                   Avengers: Age of Ultron   \n",
       "8       767    Harry Potter and the Half-Blood Prince   \n",
       "9    209112        Batman v Superman: Dawn of Justice   \n",
       "\n",
       "                                                tags  \n",
       "0  samworthington zoesaldana sigourneyweaver jame...  \n",
       "1  johnnydepp orlandobloom keiraknightley gorever...  \n",
       "2  danielcraig christophwaltz léaseydoux sammende...  \n",
       "3  christianbale michaelcaine garyoldman christop...  \n",
       "4  taylorkitsch lynncollins samanthamorton andrew...  \n",
       "5  tobeymaguire kirstendunst jamesfranco samraimi...  \n",
       "6  zacharylevi mandymoore donnamurphy byronhoward...  \n",
       "7  robertdowneyjr. chrishemsworth markruffalo jos...  \n",
       "8  danielradcliffe rupertgrint emmawatson davidya...  \n",
       "9  benaffleck henrycavill galgadot zacksnyder act...  "
      ]
     },
     "execution_count": 10,
     "metadata": {},
     "output_type": "execute_result"
    }
   ],
   "source": [
    "# creating newframe only title, movie_id, tags\n",
    "\n",
    "newframe = movies[['movie_id', 'title', 'tags']]\n",
    "\n",
    "# converting tags column from list to string\n",
    "\n",
    "newframe['tags'] = newframe['tags'].apply(lambda x: (\" \".join(x)).lower())\n",
    "\n",
    "newframe.head(10)"
   ]
  },
  {
   "cell_type": "code",
   "execution_count": 11,
   "metadata": {},
   "outputs": [
    {
     "name": "stderr",
     "output_type": "stream",
     "text": [
      "C:\\Users\\kashi\\AppData\\Local\\Temp\\ipykernel_10000\\2835834835.py:10: SettingWithCopyWarning: \n",
      "A value is trying to be set on a copy of a slice from a DataFrame.\n",
      "Try using .loc[row_indexer,col_indexer] = value instead\n",
      "\n",
      "See the caveats in the documentation: https://pandas.pydata.org/pandas-docs/stable/user_guide/indexing.html#returning-a-view-versus-a-copy\n",
      "  newframe['tags'] = newframe['tags'].apply(stem_text)\n"
     ]
    }
   ],
   "source": [
    "# first we need to use stemmer to stem the words\n",
    "\n",
    "from nltk.stem import PorterStemmer\n",
    "\n",
    "stemmer = PorterStemmer()\n",
    "\n",
    "def stem_text(text):\n",
    "    return \" \".join([stemmer.stem(word) for word in text.split()])\n",
    "\n",
    "newframe['tags'] = newframe['tags'].apply(stem_text)"
   ]
  },
  {
   "cell_type": "code",
   "execution_count": 12,
   "metadata": {},
   "outputs": [],
   "source": [
    "# using CountVectorizer to convert the text collection to a matrix\n",
    "\n",
    "from sklearn.feature_extraction.text import CountVectorizer\n",
    "\n",
    "# create a CountVectorizer object with English stop words\n",
    "\n",
    "count = CountVectorizer(max_features=5000, stop_words='english')\n",
    "\n",
    "vectors = count.fit_transform(newframe['tags']).toarray()"
   ]
  },
  {
   "cell_type": "code",
   "execution_count": 13,
   "metadata": {},
   "outputs": [
    {
     "name": "stdout",
     "output_type": "stream",
     "text": [
      "[[1.         0.08346223 0.0860309  ... 0.04499213 0.         0.        ]\n",
      " [0.08346223 1.         0.06063391 ... 0.02378257 0.         0.02615329]\n",
      " [0.0860309  0.06063391 1.         ... 0.02451452 0.         0.        ]\n",
      " ...\n",
      " [0.04499213 0.02378257 0.02451452 ... 1.         0.03962144 0.04229549]\n",
      " [0.         0.         0.         ... 0.03962144 1.         0.08714204]\n",
      " [0.         0.02615329 0.         ... 0.04229549 0.08714204 1.        ]]\n"
     ]
    },
    {
     "name": "stderr",
     "output_type": "stream",
     "text": [
      "c:\\Users\\kashi\\AppData\\Local\\Programs\\Python\\Python310\\lib\\site-packages\\sklearn\\utils\\extmath.py:193: RuntimeWarning: invalid value encountered in matmul\n",
      "  ret = a @ b\n"
     ]
    }
   ],
   "source": [
    "# calculating cosine similarity between movies\n",
    "\n",
    "from sklearn.metrics.pairwise import cosine_similarity\n",
    "\n",
    "cosine_sim = cosine_similarity(vectors)\n",
    "\n",
    "print(cosine_sim)"
   ]
  },
  {
   "cell_type": "code",
   "execution_count": 14,
   "metadata": {},
   "outputs": [],
   "source": [
    "# creating the top 10 movie recommendation system using the cosine similarity\n",
    "\n",
    "# here we have used movies frame instead of newframe , but its not a problem.\n",
    "\n",
    "def similar_movies(movie_name):\n",
    "    movie_name = movie_name.lower()\n",
    "    newframe['title'] = newframe['title'].str.lower()\n",
    "    \n",
    "    if movie_name not in newframe['title'].unique():\n",
    "        return('Movie not in Database')\n",
    "    \n",
    "    else:\n",
    "        # getting the index of the movie\n",
    "        movie_index = movies.loc[newframe['title'] == movie_name].index[0]\n",
    "        \n",
    "        # getting the similarity scores of all movies with that movie\n",
    "        # enumerate() is used to combine the index of the movie along with the similarity score\n",
    "        similar_movies = list(enumerate(cosine_sim[movie_index]))\n",
    "        \n",
    "        # sorting the list of similar movies in descending order\n",
    "        sorted_similar_movies = sorted(similar_movies, key = lambda x:x[1], reverse = True)\n",
    "        \n",
    "        # getting the top 10 similar movies\n",
    "        top_10_similar_movies = sorted_similar_movies[1:11]\n",
    "        \n",
    "        # printing the top 10 similar movies\n",
    "        print('Top 10 similar movies to ' + movie_name + ' are:\\n')\n",
    "        for i in range(len(top_10_similar_movies)):\n",
    "            print(i+1, newframe['title'][top_10_similar_movies[i][0]], sep = ': ')\n",
    "            \n",
    "        return"
   ]
  },
  {
   "cell_type": "code",
   "execution_count": 15,
   "metadata": {},
   "outputs": [
    {
     "name": "stdout",
     "output_type": "stream",
     "text": [
      "Top 10 similar movies to avatar are:\n",
      "\n",
      "1: aliens vs predator: requiem\n",
      "2: aliens\n",
      "3: anne of green gables\n",
      "4: independence day\n",
      "5: titan a.e.\n",
      "6: battle: los angeles\n",
      "7: predators\n",
      "8: small soldiers\n",
      "9: meet dave\n",
      "10: this is england\n"
     ]
    },
    {
     "name": "stderr",
     "output_type": "stream",
     "text": [
      "C:\\Users\\kashi\\AppData\\Local\\Temp\\ipykernel_10000\\453800642.py:7: SettingWithCopyWarning: \n",
      "A value is trying to be set on a copy of a slice from a DataFrame.\n",
      "Try using .loc[row_indexer,col_indexer] = value instead\n",
      "\n",
      "See the caveats in the documentation: https://pandas.pydata.org/pandas-docs/stable/user_guide/indexing.html#returning-a-view-versus-a-copy\n",
      "  newframe['title'] = newframe['title'].str.lower()\n"
     ]
    }
   ],
   "source": [
    "similar_movies('Avatar')"
   ]
  },
  {
   "cell_type": "code",
   "execution_count": 16,
   "metadata": {},
   "outputs": [],
   "source": [
    "import pickle\n",
    "\n",
    "# Save the movies dataset as a pickle binary form file to use on app.py\n",
    "with open('movies.pkl', 'wb') as file:\n",
    "    pickle.dump(newframe, file)"
   ]
  },
  {
   "cell_type": "code",
   "execution_count": 19,
   "metadata": {},
   "outputs": [],
   "source": [
    "# dumping similarity matrix into a pickle binary form file to use on app.py\n",
    "\n",
    "pickle.dump(cosine_sim, open('similarity.pkl', 'wb'))"
   ]
  }
 ],
 "metadata": {
  "kernelspec": {
   "display_name": "Python 3",
   "language": "python",
   "name": "python3"
  },
  "language_info": {
   "codemirror_mode": {
    "name": "ipython",
    "version": 3
   },
   "file_extension": ".py",
   "mimetype": "text/x-python",
   "name": "python",
   "nbconvert_exporter": "python",
   "pygments_lexer": "ipython3",
   "version": "3.10.11"
  },
  "orig_nbformat": 4
 },
 "nbformat": 4,
 "nbformat_minor": 2
}
